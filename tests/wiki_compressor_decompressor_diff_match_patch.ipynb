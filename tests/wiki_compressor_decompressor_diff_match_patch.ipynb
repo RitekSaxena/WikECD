{
  "nbformat": 4,
  "nbformat_minor": 0,
  "metadata": {
    "colab": {
      "name": "k_experiments.ipynb",
      "provenance": [],
      "collapsed_sections": []
    },
    "kernelspec": {
      "name": "python3",
      "display_name": "Python 3"
    }
  },
  "cells": [
    {
      "cell_type": "code",
      "metadata": {
        "id": "GNl0N4xiHSyi",
        "colab_type": "code",
        "colab": {
          "base_uri": "https://localhost:8080/",
          "height": 101
        },
        "outputId": "44576bd0-6511-4d2c-e269-bc49e8935e69"
      },
      "source": [
        "pip install diff-match-patch"
      ],
      "execution_count": 2,
      "outputs": [
        {
          "output_type": "stream",
          "text": [
            "Collecting diff-match-patch\n",
            "\u001b[?25l  Downloading https://files.pythonhosted.org/packages/c2/5a/9aa3b95a1d108b82fadb1eed4c3773d19069f765bd4c360a930e107138ee/diff_match_patch-20200713-py3-none-any.whl (61kB)\n",
            "\r\u001b[K     |█████▎                          | 10kB 16.9MB/s eta 0:00:01\r\u001b[K     |██████████▋                     | 20kB 4.8MB/s eta 0:00:01\r\u001b[K     |████████████████                | 30kB 6.0MB/s eta 0:00:01\r\u001b[K     |█████████████████████▎          | 40kB 6.9MB/s eta 0:00:01\r\u001b[K     |██████████████████████████▋     | 51kB 5.3MB/s eta 0:00:01\r\u001b[K     |████████████████████████████████| 61kB 5.9MB/s eta 0:00:01\r\u001b[K     |████████████████████████████████| 71kB 4.2MB/s \n",
            "\u001b[?25hInstalling collected packages: diff-match-patch\n",
            "Successfully installed diff-match-patch-20200713\n"
          ],
          "name": "stdout"
        }
      ]
    },
    {
      "cell_type": "code",
      "metadata": {
        "id": "O0XISy6zHVnz",
        "colab_type": "code",
        "colab": {
          "base_uri": "https://localhost:8080/",
          "height": 121
        },
        "outputId": "a5cab66a-454d-4bfb-906a-95a2fb89fadd"
      },
      "source": [
        "from google.colab import drive\n",
        "drive.mount('/content/drive')"
      ],
      "execution_count": 3,
      "outputs": [
        {
          "output_type": "stream",
          "text": [
            "Go to this URL in a browser: https://accounts.google.com/o/oauth2/auth?client_id=947318989803-6bn6qk8qdgf4n4g3pfee6491hc0brc4i.apps.googleusercontent.com&redirect_uri=urn%3aietf%3awg%3aoauth%3a2.0%3aoob&scope=email%20https%3a%2f%2fwww.googleapis.com%2fauth%2fdocs.test%20https%3a%2f%2fwww.googleapis.com%2fauth%2fdrive%20https%3a%2f%2fwww.googleapis.com%2fauth%2fdrive.photos.readonly%20https%3a%2f%2fwww.googleapis.com%2fauth%2fpeopleapi.readonly&response_type=code\n",
            "\n",
            "Enter your authorization code:\n",
            "··········\n",
            "Mounted at /content/drive\n"
          ],
          "name": "stdout"
        }
      ]
    },
    {
      "cell_type": "code",
      "metadata": {
        "id": "icI0YgvwHYUC",
        "colab_type": "code",
        "colab": {
          "base_uri": "https://localhost:8080/",
          "height": 34
        },
        "outputId": "c5b9098b-fd75-4421-99e3-c8fe96a7deba"
      },
      "source": [
        "cd /content/drive/My Drive/WikiRevisions"
      ],
      "execution_count": 4,
      "outputs": [
        {
          "output_type": "stream",
          "text": [
            "/content/drive/My Drive/WikiRevisions\n"
          ],
          "name": "stdout"
        }
      ]
    },
    {
      "cell_type": "code",
      "metadata": {
        "id": "kDJZrrntHco1",
        "colab_type": "code",
        "colab": {}
      },
      "source": [
        "import xml.etree.ElementTree as ET\n",
        "import time\n",
        "from diff_match_patch import diff_match_patch\n",
        "import os"
      ],
      "execution_count": 5,
      "outputs": []
    },
    {
      "cell_type": "code",
      "metadata": {
        "id": "wsIwSz71Hfs5",
        "colab_type": "code",
        "colab": {}
      },
      "source": [
        "tree = ET.parse('The_Weeknd.knolml')\n",
        "root = tree.getroot()\n",
        "revisions=[]\n",
        "for instance in root.iter('Instance'):\n",
        "  for text in instance.iter('Text'):\n",
        "    revisions.append(text.text)\n"
      ],
      "execution_count": 6,
      "outputs": []
    },
    {
      "cell_type": "code",
      "metadata": {
        "id": "w8w4UWrRHlqp",
        "colab_type": "code",
        "colab": {}
      },
      "source": [
        "def diff_match(text1,text2):\n",
        "  dmp = diff_match_patch()\n",
        "  start = time.time()\n",
        "  diff = dmp.patch_make(text1,text2)\n",
        "  diff = dmp.patch_toText(diff)\n",
        "  end = time.time()\n",
        "  return (end-start) , diff"
      ],
      "execution_count": 7,
      "outputs": []
    },
    {
      "cell_type": "code",
      "metadata": {
        "id": "wILe2x83JoGz",
        "colab_type": "code",
        "colab": {}
      },
      "source": [
        "def patch_match(text1,diff):\n",
        "  dmp = diff_match_patch()\n",
        "  start = time.time()\n",
        "  patches = dmp.patch_fromText(diff)\n",
        "  new_text, _ = dmp.patch_apply(patches, text1)\n",
        "  end = time.time()\n",
        "  return (end-start),new_text"
      ],
      "execution_count": 8,
      "outputs": []
    },
    {
      "cell_type": "code",
      "metadata": {
        "id": "xRqX_0uSHqOD",
        "colab_type": "code",
        "colab": {}
      },
      "source": [
        "temp1 = time.time()\n",
        "temp2 = time.time()\n",
        "temptime =  temp2-temp1\n",
        "diff_time_k=[]\n",
        "patch_time_k = []\n",
        "file_size_k = []\n",
        "for k in range(1,10,1):\n",
        "  diff_list = []\n",
        "  diff_time = []\n",
        "  patch_time = []\n",
        "  patch_list = []\n",
        "  patch_files = []\n",
        "  for i in range(len(revisions)):\n",
        "    if (i%k==0):\n",
        "      diff_list.append(revisions[i])\n",
        "      diff_time.append(temptime)\n",
        "    else :\n",
        "      prev_text = revisions[i-1]\n",
        "      cur_text= revisions[i]\n",
        "      t , diff = diff_match(prev_text,cur_text)\n",
        "      diff_list.append(diff)\n",
        "      diff_time.append(t)\n",
        "  for i in range(len(revisions)):\n",
        "    if i%k==0:\n",
        "      temp = int(i/k)\n",
        "      current_text = diff_list[k*temp]\n",
        "      patch_time.append(temptime)\n",
        "      patch_files.append(current_text)\n",
        "    else:\n",
        "      temp = int(i/k)\n",
        "      patched_text = diff_list[k*temp]\n",
        "      total = 0\n",
        "      for j in range(temp*k,i,1):\n",
        "        t,patched_text = patch_match(patched_text,diff_list[j+1])\n",
        "        total+=t\n",
        "      patch_time.append(total)\n",
        "      patch_files.append(patched_text)\n",
        "\n",
        "  total_time_diff=0\n",
        "  total_time_patch=0\n",
        "  l = \"\"\n",
        "  for i in range(len(diff_time)):\n",
        "    total_time_diff +=diff_time[i]\n",
        "    total_time_patch +=patch_time[i]\n",
        "    l+=diff_list[i]\n",
        "  diff_time_k.append(total_time_diff)\n",
        "  patch_time_k.append(total_time_patch)\n",
        "  file_size_k.append(len(l.encode('utf-8')))\n",
        "\n",
        "\n"
      ],
      "execution_count": 10,
      "outputs": []
    },
    {
      "cell_type": "code",
      "metadata": {
        "id": "NE0-5ejCRiHf",
        "colab_type": "code",
        "colab": {
          "base_uri": "https://localhost:8080/",
          "height": 185
        },
        "outputId": "b1043e5e-567a-4714-9417-e648bcf3975c"
      },
      "source": [
        "print (\"k\",\"diff_time      \",\"patch_time   \",\"total_time\",\"all_file_size\")\n",
        "for i in range(1,10,1):\n",
        "  print(i,diff_time_k[i-1],patch_time_k[i-1],diff_time_k[i-1]+patch_time_k[i-1],file_size_k[i-1])\n"
      ],
      "execution_count": 23,
      "outputs": [
        {
          "output_type": "stream",
          "text": [
            "k diff_time       patch_time    total_time all_file_size\n",
            "1 0.2045118808746338 0.2045118808746338 0.4090237617492676 310828689\n",
            "2 39.67944002151489 0.6199462413787842 40.29938626289368 157256182\n",
            "3 51.336711168289185 0.9138867855072021 52.25059795379639 106097651\n",
            "4 64.94996523857117 1.2987871170043945 66.24875235557556 80631236\n",
            "5 64.90843963623047 1.6985747814178467 66.60701441764832 64967863\n",
            "6 62.491668701171875 1.949343204498291 64.44101190567017 54795765\n",
            "7 64.50891828536987 2.3565833568573 66.86550164222717 47490070\n",
            "8 70.86159420013428 2.6599719524383545 73.52156615257263 42250222\n",
            "9 71.08018898963928 2.9799697399139404 74.06015872955322 37671383\n"
          ],
          "name": "stdout"
        }
      ]
    }
  ]
}